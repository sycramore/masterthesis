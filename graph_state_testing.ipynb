{
 "cells": [
  {
   "cell_type": "code",
   "execution_count": 7,
   "metadata": {},
   "outputs": [
    {
     "name": "stderr",
     "output_type": "stream",
     "text": [
      "ibmqfactory.load_account:WARNING:2022-02-08 14:58:57,547: Credentials are already in use. The existing account in the session will be replaced.\n"
     ]
    }
   ],
   "source": [
    "#Implementation of the protocol from https://arxiv.org/pdf/2007.13126.pdf\n",
    "#Honest verifier and fcg\n",
    "#Advantage for the honest verifier and fcg setting : generator testing completely suffices\n",
    "\n",
    "%matplotlib inline\n",
    "import numpy as np\n",
    "# Importing standard Qiskit libraries and configuring account\n",
    "import qiskit\n",
    "from qiskit import QuantumCircuit, execute, Aer, IBMQ\n",
    "from qiskit.compiler import transpile, assemble\n",
    "from qiskit.tools.jupyter import *\n",
    "from qiskit.visualization import *\n",
    "import math as math\n",
    "# Import from Qiskit Aer noise module\n",
    "from qiskit.providers.aer.noise import NoiseModel\n",
    "from qiskit.providers.aer.noise import QuantumError, ReadoutError\n",
    "from qiskit.providers.aer.noise import depolarizing_error\n",
    "# Loading your IBM Q account(s)\n",
    "provider = IBMQ.load_account()\n",
    "\n",
    "simulator2 = Aer.get_backend('statevector_simulator')\n",
    "\n",
    "#select graph structure by giving the adjacency matrix\n",
    "\n",
    "adj_matrix = [[0,1,0],[1,0,1],[0,1,0]]\n",
    "\n",
    "def Convert(string): \n",
    "    list1=[] \n",
    "    list1[:0]=string \n",
    "    return list1\n",
    "\n",
    "def stabilizer_test(circuit,num_qubits,alpha):\n",
    "    for i in range(0,num_qubits):\n",
    "        if i == alpha:\n",
    "            circuit.h(i)\n",
    "            circuit.measure(i,i)\n",
    "        if adj_matrix[alpha][i] == 0:\n",
    "            pass\n",
    "        if adj_matrix[alpha][i] == 1:\n",
    "            circuit.measure(i,i)\n",
    "    return(circuit)\n",
    "\n",
    "def stabilizer_test_with_depolarizing_noise_line(noise_param,J,m):\n",
    "    #countslist = [] #hilfsvariable um die ergebnisse zu checken\n",
    "    n_pass = 0\n",
    "    num_tests = math.ceil(m*J**4*math.log(J))\n",
    "    num_qubits = J\n",
    "    for alpha in range(J):\n",
    "        for beta in range(num_tests):\n",
    "            ### white noise model/depolarizing channel\n",
    "            graph_state_circuit = qiskit.circuit.library.GraphState(adj_matrix)\n",
    "            new_creg = graph_state_circuit._create_creg(len(graph_state_circuit.qubits), 'meas')\n",
    "            graph_state_circuit.add_register(new_creg)\n",
    "            graph_state_circuit.barrier()\n",
    "            qiskit.providers.aer.noise.depolarizing_error(noise_param,num_qubits)\n",
    "            noise_model = NoiseModel()\n",
    "            error = depolarizing_error(noise_param,num_qubits=1) #1qb noise\n",
    "            error2 = depolarizing_error(noise_param,num_qubits=2)#2qb noise\n",
    "            noise_model.add_all_qubit_quantum_error(error,['h'])\n",
    "            noise_model.add_all_qubit_quantum_error(error2,['cz'])\n",
    "            basis_gates = noise_model.basis_gates\n",
    "            graph_state_circuit = stabilizer_test(graph_state_circuit,num_qubits,alpha)\n",
    "            simulator = Aer.get_backend('qasm_simulator')\n",
    "            shots = 1\n",
    "            result = execute(graph_state_circuit,simulator,basis_gates=basis_gates,shots=shots,noise_model=noise_model).result()\n",
    "            counts = result.get_counts(graph_state_circuit)\n",
    "            #if product over all returns equals 1, accept\n",
    "            dummy = list(counts.values())\n",
    "            j = 0\n",
    "            #countslist.append(counts)\n",
    "            for i in list(counts):\n",
    "                string_i = Convert(i) #represent element as list of strings to iterate over returned element 0000 = ['0','0','0','0']\n",
    "                brauchbarer_string_i = [int(x) for x in string_i]\n",
    "                if np.sum(brauchbarer_string_i) % 2 == 0:\n",
    "                    n_pass += int(dummy[j])\n",
    "                j += 1\n",
    "    return n_pass/(num_tests*J)\n",
    "\n"
   ]
  },
  {
   "cell_type": "code",
   "execution_count": 12,
   "metadata": {},
   "outputs": [
    {
     "name": "stdout",
     "output_type": "stream",
     "text": [
      "[0.9099495196222114, 0.9135319980459209, 0.9182543559680834, 0.9091353199804592, 0.9140205178309722, 0.9140205178309722, 0.9146718775443738, 0.9053900016283993, 0.9211854746783912, 0.9086468001954079, 0.9086468001954079, 0.9241165933886989, 0.9158117570428269, 0.9149975574010747, 0.9163002768278782, 0.9138576779026217, 0.9135319980459209, 0.9146718775443738, 0.9151603973294252, 0.91320631818922]\n",
      "0.9139553818596321 0.004221733099109159\n"
     ]
    }
   ],
   "source": [
    "noise_parameter = [0.05 for i in range(20)]\n",
    "\n",
    "percentage_passed = [stabilizer_test_with_depolarizing_noise_line(noise_param,3,23) for noise_param in noise_parameter]\n",
    "\n",
    "print(percentage_passed)\n",
    "print(np.mean(percentage_passed),np.std(percentage_passed))"
   ]
  },
  {
   "cell_type": "code",
   "execution_count": null,
   "metadata": {},
   "outputs": [],
   "source": []
  }
 ],
 "metadata": {
  "kernelspec": {
   "display_name": "Qiskit v0.35.0 (ipykernel)",
   "language": "python",
   "name": "python3"
  },
  "language_info": {
   "codemirror_mode": {
    "name": "ipython",
    "version": 3
   },
   "file_extension": ".py",
   "mimetype": "text/x-python",
   "name": "python",
   "nbconvert_exporter": "python",
   "pygments_lexer": "ipython3",
   "version": "3.8.13"
  },
  "widgets": {
   "application/vnd.jupyter.widget-state+json": {
    "state": {},
    "version_major": 2,
    "version_minor": 0
   }
  }
 },
 "nbformat": 4,
 "nbformat_minor": 4
}
